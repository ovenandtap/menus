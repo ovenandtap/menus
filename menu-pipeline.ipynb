{
 "cells": [
  {
   "cell_type": "code",
   "execution_count": 15,
   "metadata": {},
   "outputs": [],
   "source": [
    "# Imports\n",
    "import os, shutil, subprocess\n",
    "from wand.image import Image"
   ]
  },
  {
   "cell_type": "code",
   "execution_count": 20,
   "metadata": {},
   "outputs": [],
   "source": [
    "class MenuProcessing(object):\n",
    "    \n",
    "    pngquant_cmd = \"pngquant --quality=0-20 --speed 1 --ext .png --force \"\n",
    "    scratch_path = \"./tmp/\"\n",
    "\n",
    "    food_menu_suffix = \"_menu\"\n",
    "    drink_menu_suffix = \"_drinks_menu\"\n",
    "\n",
    "    menu_types = [\"breakfast\",\"brunch\", \"lunch\", \"dinner\"]\n",
    "    drink_words = [\"beverage\", \"drink\"]\n",
    "    \n",
    "    def __init__(self, path):\n",
    "        self.path = path\n",
    "        self.assetName = self._buildAssetName(path)\n",
    "        self.error = False\n",
    "        self.message = \"\"\n",
    "        \n",
    "    def process(self):\n",
    "        if not os.path.exists(self.scratch_path):\n",
    "            os.makedirs(self.scratch_path)\n",
    "        \n",
    "        shutil.copyfile(src=self.path, dst=self.scratch_path + self.assetName + \".pdf\")\n",
    "        \n",
    "        is_converted = self._pdfToPng(self.scratch_path + self.assetName + \".pdf\")\n",
    "        is_crushed = self._crushPng(self.scratch_path + self.assetName + \".png\")\n",
    "        \n",
    "    \n",
    "    def _pdfToPng(self, pdf_path):\n",
    "        if not ('pdf' in pdf_path.lower()):\n",
    "            print(\"Attempted to convert non-pdf.\")\n",
    "            return False\n",
    "        \n",
    "        name = pdf_path.split('.')\n",
    "        convert = Image(filename=pdf_path, resolution=200)  \n",
    "\n",
    "        page=convert.sequence[0]\n",
    "        convert.compression_quality = 70\n",
    "        convert.save(filename=\".\" + name[1] +  \".png\")\n",
    "        \n",
    "\n",
    "    \n",
    "    def _crushPng(self, png_path):\n",
    "        if \"png\" not in png_path:\n",
    "            print(\"trying to crush non-png\")\n",
    "            return False\n",
    "        \n",
    "        optimize_proc = subprocess.check_output(self.pngquant_cmd + png_path, shell=True)\n",
    "        print(optimize_proc)\n",
    "        return True \n",
    "        \n",
    "    \n",
    "    def _isDrinkMenu(self, menu):\n",
    "        if \"beverage\" in menu.lower():\n",
    "            return True\n",
    "        return False\n",
    "    \n",
    "    def _buildAssetName(self, filename):\n",
    "        parts = filename.split(\".\")\n",
    "        assert len(parts) == 2\n",
    "        \n",
    "        lowercase_name = parts[0].lower().replace(\" \", \"_\")\n",
    "        extension_name = \".\" + parts[1]\n",
    "        \n",
    "        for menu in self.menu_types:\n",
    "            if menu in lowercase_name:\n",
    "                if \"beverage\" in lowercase_name:\n",
    "                    return menu + self.drink_menu_suffix\n",
    "                else:\n",
    "                    return menu + self.food_menu_suffix\n",
    "        \n",
    "        print(\"Asset doesn't match criteria\")"
   ]
  },
  {
   "cell_type": "code",
   "execution_count": 21,
   "metadata": {},
   "outputs": [],
   "source": [
    "pr = MenuProcessing(\"\"\"/home/sam/Dropbox/menu_archive/1498779239/Brunch Beverage 6-23.pdf\"\"\")\n"
   ]
  },
  {
   "cell_type": "code",
   "execution_count": 22,
   "metadata": {},
   "outputs": [
    {
     "name": "stdout",
     "output_type": "stream",
     "text": [
      "b''\n"
     ]
    }
   ],
   "source": [
    "pr.process()"
   ]
  },
  {
   "cell_type": "code",
   "execution_count": null,
   "metadata": {},
   "outputs": [],
   "source": [
    "pr.message"
   ]
  },
  {
   "cell_type": "code",
   "execution_count": null,
   "metadata": {
    "collapsed": true
   },
   "outputs": [],
   "source": []
  }
 ],
 "metadata": {
  "kernelspec": {
   "display_name": "Python 3",
   "language": "python",
   "name": "python3"
  },
  "language_info": {
   "codemirror_mode": {
    "name": "ipython",
    "version": 3
   },
   "file_extension": ".py",
   "mimetype": "text/x-python",
   "name": "python",
   "nbconvert_exporter": "python",
   "pygments_lexer": "ipython3",
   "version": "3.5.2"
  }
 },
 "nbformat": 4,
 "nbformat_minor": 2
}
